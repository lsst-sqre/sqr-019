{
 "cells": [
  {
   "cell_type": "markdown",
   "metadata": {
    "nbsphinx": "hidden"
   },
   "source": [
    "# Verification Framework API Demonstration\n",
    "\n",
    "**[SQR-019](https://sqr-019.lsst.io)**\n",
    "\n",
    "Jonathan Sick, LSST/AURA"
   ]
  },
  {
   "cell_type": "markdown",
   "metadata": {},
   "source": [
    "## Introduction\n",
    "\n",
    "`lsst.verify` is the new framework for making verification measurements in the LSST Science Pipelines. *Verification* is an activity where well-defined quantities, called *metrics*, are measured to ensure that LSST's data and pipelines meet requirements, which we call *specifications*.\n",
    "\n",
    "You might be familar with `validate_drp`. That package that currently measures metrics of `ProcessCcdTask` outputs and posts results to [SQUASH](https://squash.lsst.codes). By tracking metric measurements we are able to understand trends in the algorithmic performance of the LSST Science Pipelines, and ultimately verify that we will meet our requirements.\n",
    "\n",
    "With `lsst.verify` we sought to generalize the process of defining metrics, measuring those metrics, and tracking those measurements in SQUASH. Rather than supporting only specially-design verification afterburner tasks, our goal is to empower developers to track performance metrics of their own specific pipeline Tasks. By defining metrics relevant to specific Tasks, verification becomes a highly relevant integration testing activity for day-to-day pipelines development.\n",
    "\n",
    "This tutorial demonstrates key features and patterns in the `lsst.verify` framework, from defining metrics and specifications, to making measurements, to analyzing and summarizing performance."
   ]
  },
  {
   "cell_type": "code",
   "execution_count": 1,
   "metadata": {
    "collapsed": true
   },
   "outputs": [],
   "source": [
    "# Standard library and third party packages used by this notebook\n",
    "import json\n",
    "import astropy.units as u\n",
    "import numpy as np\n",
    "import yaml\n",
    "\n",
    "# The Verification Framework\n",
    "import lsst.verify"
   ]
  },
  {
   "cell_type": "markdown",
   "metadata": {},
   "source": [
    "## Defining metrics\n",
    "\n",
    "Metrics are definitions of measurable things that you want to track. A measureable thing could be anything: the $\\chi^2$ of a fit, the number of sources identified and measured, or even the latency or memory usage of a function.\n",
    "\n",
    "In the verification framework, all metrics are centrally defined in the [verify_metrics](https://github.com/lsst/verify_metrics) package. To define a new metric, simply add or modify a YAML file in the `/metrics` directory of [verify_metrics](https://github.com/lsst/verify_metrics). Each Stack package that measures metrics has its own YAML definitions file (`jointcal.yaml`, `validate_drp.yaml`, and so on).\n",
    "\n",
    "SQUASH watches `verify_metrics` so that when a metric is committed to the GitHub repo is it also known to the SQUASH dashboard.\n",
    "\n",
    "For this tutorial, we will create metrics for hypothetical `demo1` and `demo2` packages. Here are some metric definitions."
   ]
  },
  {
   "cell_type": "markdown",
   "metadata": {},
   "source": [
    "First, content for a hypothetical `/metrics/demo1.yaml` file:"
   ]
  },
  {
   "cell_type": "code",
   "execution_count": 2,
   "metadata": {
    "collapsed": true
   },
   "outputs": [],
   "source": [
    "demo1_metrics_yaml = \"\"\"\n",
    "ZeropointRMS:\n",
    "  unit: mmag\n",
    "  description: >\n",
    "    Photometric calibration RMS.\n",
    "  reference:\n",
    "    url: https://example.com/PhotRMS\n",
    "  tags:\n",
    "    - photometry\n",
    "\n",
    "Completeness:\n",
    "  unit: mag\n",
    "  description: >\n",
    "    Magnitude of the catalog's 50% completeness limit.\n",
    "  reference:\n",
    "    url: https://example.com/Complete\n",
    "  tags:\n",
    "    - photometry\n",
    "\n",
    "SourceCount:\n",
    "  unit: ''\n",
    "  description: >\n",
    "    Number of objects in the output catalog.\n",
    "  tags:\n",
    "    - photometry\n",
    "\"\"\""
   ]
  },
  {
   "cell_type": "markdown",
   "metadata": {},
   "source": [
    "This YAML defines three metrics: `demo1.ZeropointRMS`, `demo1.Complete` and `demo1.SourceCount`. A metric consists of:\n",
    "\n",
    "- **A name.** Names are prefixed by name of the package that defines them.\n",
    "- **A description.** This helps to document metrics, even if they are more thoroughly defined in other documentation (see the `reference` field).\n",
    "- **A unit.** Units are `astropy.units`-compatibble strings. Metrics of unitless quantities should use the [dimensionless_unscaled}(http://docs.astropy.org/en/stable/units/standard_units.html#the-dimensionless-unit) unit, an empty string.\n",
    "- **References.** References can be made to URLs, or even to document handles and page numbers. We can expand the `reference` field's schema to accomodate formalize reference identifiers in the future.\n",
    "- **Tags.** These help us group metrics together in reports."
   ]
  },
  {
   "cell_type": "markdown",
   "metadata": {},
   "source": [
    "For the purposes of this demo, we'll parse this YAML object into a `lsst.verify.MetricSet` collection. Normally this doesn't need to be done since metrics should be pre-defined in `verify_metrics`, which are automatically loaded as we'll see later."
   ]
  },
  {
   "cell_type": "code",
   "execution_count": 3,
   "metadata": {},
   "outputs": [
    {
     "name": "stdout",
     "output_type": "stream",
     "text": [
      "<MetricSet: 3 Metrics>\n"
     ]
    }
   ],
   "source": [
    "from tempfile import TemporaryDirectory\n",
    "import os\n",
    "\n",
    "with TemporaryDirectory() as temp_dir:\n",
    "    demo1_metrics_path = os.path.join(temp_dir, 'demo1.yaml')\n",
    "    with open(demo1_metrics_path, mode='w') as f:\n",
    "        f.write(demo1_metrics_yaml)\n",
    "    demo_metrics = lsst.verify.MetricSet.load_single_package(demo1_metrics_path)\n",
    "print(demo_metrics)"
   ]
  },
  {
   "cell_type": "markdown",
   "metadata": {},
   "source": [
    "## Defining metric specifications\n",
    "\n",
    "Specifications are tests of metric measurements. A specification can be thought of as a milestone; if a measurement passes a specification then data and code are working as expected.\n",
    "\n",
    "Like metrics, specifications can be centrally defined in the [verify_metrics](https://github.com/lsst/verify_metrics) repository. Specifications for each package are defined in one or more YAML files in the `specs` subdirectory of `verify_metrics`. See the [validate_drp directory for an example](https://github.com/lsst/verify_metrics/tree/master/specs/validate_drp)."
   ]
  },
  {
   "cell_type": "markdown",
   "metadata": {},
   "source": [
    "Here is a typical specification, in this case for the `demo1.ZeropointRMS` metric:\n",
    "\n",
    "```yaml\n",
    "name: \"minimum\"\n",
    "metric: \"ZeropointRMS\"\n",
    "threshold:\n",
    "  operator: \"<=\"\n",
    "  unit: \"mmag\"\n",
    "  value: 20.0\n",
    "tags:\n",
    "  - \"demo-minimum\"\n",
    "```\n",
    "\n",
    "The fully-qualified name for this specification is `demo1.ZeropointRMS.minimum`, following a `{package}.{metric}.{spec_name}` format. Specifications names should be unique, but otherwise can be anything. The Verification Framework does not place special meaning on \"minimum,\" \"design,\" and \"stretch\" specifications. Instead, we recommend that you use tags to designate specifiations with operational meaning.\n",
    "\n",
    "The core of a specification is its test, and the `demo1.ZeropointRMS.minimum` specification defines its test in the `threshold` YAML field. Here, a measurement *passes* the specification if $\\mathrm{measurement} \\leq 20.0~\\mathrm{mmag}$.\n",
    "\n",
    "We envision other types of specifications beyond thresholds (binary comparisions). Possible specification types include ranges and tolerances."
   ]
  },
  {
   "cell_type": "markdown",
   "metadata": {},
   "source": [
    "### Metadata queries: making specifications only act upon certain measurements\n",
    "\n",
    "Often you'll make measurements of a metric in many contexts. With different datasets, from different cameras, in different filters. A specification we define for one measurement context might not be relevant for other contexts. LPM-17, for example, does this frequently by defining different specifications for $gri$ datasets than $uzy$. To prevent false alerts, the Verification Framework allows you to define criteria for when a specification applies to a measurement.\n",
    "\n",
    "Originally we indended to leverage the *provenance* of a pipeline execution. Provenance, in general, fully describes the environment of the pipeline run, the datasets that were processed and produced, and the pipeline configuration. We envisioned that specifications might query the provenance of a metric measurement to determine if the specification's test is applicable. While this is our long term design intent, a comprehensive pipeline provenance framework does not exist.\n",
    "\n",
    "To shim the provenance system's functionality, the Verification Framework introduces a complementary concept called *job metadata*. Whereas provenance is passively gathered during pipeline execution, metadata is explicitly added by pipeline developers and operators. Metadata could be a task configuration, filter name, dataset name, or any state known during a Task's execution.\n",
    "\n",
    "For example, suppose that a specification only applies to CFHT/MegaCam datasets in the $r$-band. This requirement is written into the specification's definition with a `metadata_query` field:\n",
    "\n",
    "```yaml\n",
    "name: \"minimum_megacam_r\"\n",
    "metric: \"ZeropointRMS\"\n",
    "threshold:\n",
    "  operator: \"<=\"\n",
    "  unit: \"mmag\"\n",
    "  value: 20.0\n",
    "tags:\n",
    "  - \"demo-minimum\"\n",
    "metadata_query:\n",
    "  camera: \"megacam\"\n",
    "  filter_name: \"r\" \n",
    "```\n",
    "\n",
    "If a job has metadata with *matching* `camera` and `filter_name` fields, the specification applies:\n",
    "\n",
    "```json\n",
    "{\n",
    "  'camera': 'megacam',\n",
    "  'filter_name': 'r'\n",
    "  'dataset_repo': 'https://github.com/lsst/ci_cfht.git'\n",
    "}\n",
    "```\n",
    "\n",
    "On the other hand, if a job has metadata that is either missing fields, or has conflicting values, the specification does not apply:\n",
    "\n",
    "```json\n",
    "{\n",
    "  'filter_name': 'i'\n",
    "  'dataset_repo': 'https://github.com/lsst/ci_cfht.git'\n",
    "}\n",
    "```"
   ]
  },
  {
   "cell_type": "markdown",
   "metadata": {
    "collapsed": true
   },
   "source": [
    "### Specification inheritance\n",
    "\n",
    "Metadata queries help us write specifications that monitor precisely the pipeline runs we are interested in, with test criteria that make sense. But this also means that we are potentially writing many more specifications for each metric. Most specifications for a given metric share common characteristics, such as units, threshold operators, the metric name, and even some base metadata query terms. To write specifications without repeating outself, we can take advantage of specification inheritance."
   ]
  },
  {
   "cell_type": "markdown",
   "metadata": {},
   "source": [
    "As an example, let's write a basic specification in YAML for the `demo1.ZeropointRMS` metric, and write another specification that is customized for CFHT/MegaCam $r$-band data:"
   ]
  },
  {
   "cell_type": "code",
   "execution_count": 4,
   "metadata": {},
   "outputs": [
    {
     "name": "stdout",
     "output_type": "stream",
     "text": [
      "<SpecificationSet: 2 Specifications>\n"
     ]
    }
   ],
   "source": [
    "zeropointrms_specs_yaml = \"\"\"\n",
    "---\n",
    "name: \"minimum\"\n",
    "metric: \"ZeropointRMS\"\n",
    "threshold:\n",
    "  operator: \"<=\"\n",
    "  unit: \"mmag\"\n",
    "  value: 20.0\n",
    "tags:\n",
    "  - \"demo-minimum\"\n",
    "\n",
    "---\n",
    "name: \"minimum_megacam_r\"\n",
    "base: [\"ZeropointRMS.minimum\"]\n",
    "threshold:\n",
    "  value: 15.0\n",
    "metadata_query:\n",
    "  camera: \"megacam\"\n",
    "  filter_name: \"r\"\n",
    "\"\"\"\n",
    "\n",
    "with TemporaryDirectory() as temp_dir:\n",
    "    # Write YAML to disk, emulating the verify_metrics package for this demo\n",
    "    specs_dirname = os.path.join(temp_dir, 'demo1')\n",
    "    os.makedirs(specs_dirname)\n",
    "    demo1_specs_path = os.path.join(specs_dirname, 'zeropointRMS.yaml')\n",
    "    with open(demo1_specs_path, mode='w') as f:\n",
    "        f.write(zeropointrms_specs_yaml)\n",
    "\n",
    "    # Parse the YAML into a set of Specification objects\n",
    "    demo1_specs = lsst.verify.SpecificationSet.load_single_package(specs_dirname)\n",
    "\n",
    "print(demo1_specs)"
   ]
  },
  {
   "cell_type": "markdown",
   "metadata": {},
   "source": [
    "The `demo1.ZeropointRMS.minimum_megacam_r` specification indicates that it inherits from `demo1.ZeropointRMS.minium` by referencing it in the `base` field.\n",
    "\n",
    "With inheritance, `demo1.ZeropointRMS.minimum_megacam_r` includes all fields defined in its base, adds new fields, and overrides values. Notice how the threshold has changed from 20.0 mmag, to 10.0 mmag:"
   ]
  },
  {
   "cell_type": "code",
   "execution_count": 5,
   "metadata": {},
   "outputs": [
    {
     "data": {
      "text/plain": [
       "{'metadata_query': {'camera': 'megacam', 'filter_name': 'r'},\n",
       " 'name': 'demo1.ZeropointRMS.minimum_megacam_r',\n",
       " 'tags': ['demo-minimum'],\n",
       " 'threshold': {'operator': '<=', 'unit': 'mmag', 'value': 15.0},\n",
       " 'type': 'threshold'}"
      ]
     },
     "execution_count": 5,
     "metadata": {},
     "output_type": "execute_result"
    }
   ],
   "source": [
    "demo1_specs['demo1.ZeropointRMS.minimum_megacam_r'].json"
   ]
  },
  {
   "cell_type": "markdown",
   "metadata": {},
   "source": [
    "### Specification partials for even more composable specifications\n",
    "\n",
    "Suppose we want to create specifications for many metrics that apply to the `megacam` camera. Specification inheritance doesn't help because we need to repeat the metadata query for each metric:\n",
    "\n",
    "```yaml\n",
    "---\n",
    "# Base specification: demo1.ZeropointRMS.minimum\n",
    "name: \"minimum\"\n",
    "metric: \"ZeropointRMS\"\n",
    "threshold:\n",
    "  operator: \"<=\"\n",
    "  unit: \"mmag\"\n",
    "  value: 20.0\n",
    "tags:\n",
    "  - \"demo-minimum\"\n",
    "\n",
    "---\n",
    "# Base specification: demo1.Completeness.minimum\n",
    "name: \"minimum\"\n",
    "metric: \"Completeness\"\n",
    "threshold:\n",
    "  operator: \">=\"\n",
    "  unit: \"mag\"\n",
    "  value: 20.0\n",
    "tags:\n",
    "  - \"demo-minimum\"\n",
    "  \n",
    "---\n",
    "# A demo1.ZeropointRMS specification targetting MegaCam r-band\n",
    "name: \"minimum_megacam_r\"\n",
    "base: [\"ZeropointRMS.minimum\"]\n",
    "threshold:\n",
    "  value: 15.0\n",
    "metadata_query:\n",
    "  camera: \"megacam\"\n",
    "  filter_name: \"r\"\n",
    "\n",
    "---\n",
    "# A demo1.CompletenessRMS specification targetting MegaCam r-band\n",
    "name: \"minimum_megacam_r\"\n",
    "base: [\"Completeness.minimum\"]\n",
    "threshold:\n",
    "  value: 24.0\n",
    "metadata_query:\n",
    "  camera: \"megacam\"\n",
    "  filter_name: \"r\"\n",
    "```"
   ]
  },
  {
   "cell_type": "markdown",
   "metadata": {},
   "source": [
    "To avoid duplicating `metadata_query` information for all MegaCam $r$-band specifications across many metrics, we can extract that information into a **partial.** Partials are formatted like specifications, but are never parsed as stand-alone specifiations. That means a partial can, as the name implies, define common partial information that can be mixed into many specifications.\n",
    "\n",
    "Here's the same example as before, but written with a `#megacam_r` partial:\n",
    "\n",
    "```yaml\n",
    "---\n",
    "# Partial for MegaCam r-band specifications\n",
    "id: \"megacam-r\"\n",
    "metadata_query:\n",
    "  camera: \"megacam\"\n",
    "  filter_name: \"r\"\n",
    "\n",
    "---\n",
    "# Base specification: demo1.ZeropointRMS.minimum\n",
    "name: \"minimum\"\n",
    "metric: \"ZeropointRMS\"\n",
    "threshold:\n",
    "  operator: \"<=\"\n",
    "  unit: \"mmag\"\n",
    "  value: 20.0\n",
    "tags:\n",
    "  - \"demo-minimum\"\n",
    "\n",
    "---\n",
    "# Base specification: demo1.Completeness.minimum\n",
    "name: \"minimum\"\n",
    "metric: \"Completeness\"\n",
    "threshold:\n",
    "  operator: \">=\"\n",
    "  unit: \"mag\"\n",
    "  value: 20.0\n",
    "tags:\n",
    "  - \"demo-minimum\"\n",
    "  \n",
    "---\n",
    "# A demo1.ZeropointRMS specification targetting MegaCam r-band\n",
    "name: \"minimum_megacam_r\"\n",
    "base: [\"ZeropointRMS.minimum\", \"#megacam-r\"]\n",
    "threshold:\n",
    "  value: 15.0\n",
    "\n",
    "\n",
    "---\n",
    "# A demo1.Completeness specification targetting MegaCam r-band\n",
    "name: \"minimum_megacam_r\"\n",
    "base: [\"Completeness.minimum\", \"#megacam-r]\n",
    "threshold:\n",
    "  value: 24.0\n",
    "```\n",
    "\n",
    "As you can see, we've added the `megacam-r` partial to the inheritance chain defined in the `base` fields. The `demo1.ZeropointRMS.minimum_megacam_r` and `demo1.Completeness.minimum_megacam_r` specifications inherit form both specifications *and* the `#megacam-r` partial. The `#` prefix implies an partial, not a specification. It's also possible to reference partials in other YAML files, see the [validate_drp specifications](https://github.com/lsst/verify_metrics/blob/master/specs/validate_drp/cfht_gri/PA1.yaml) for an example.\n",
    "\n",
    "Inheritance is evaluated left to right. For example, `demo1.Completeness.minimum_megacam_r` is built up in this order:\n",
    "\n",
    "1. Use the `demo1.Completeness.minimum` specification.\n",
    "2. Override with information from `#megacam-r`.\n",
    "3. Override with information from the `demo1.Completeness.minimum` specification's own YAML fields."
   ]
  },
  {
   "cell_type": "markdown",
   "metadata": {},
   "source": [
    "### Specifications: putting it all together\n",
    "\n",
    "We've seen how to write specification metrics in YAML, and how to write them more efficiently with inheritance and partials. Now let's write out a full specification set, like we might in `verify_metrics`:"
   ]
  },
  {
   "cell_type": "code",
   "execution_count": 6,
   "metadata": {},
   "outputs": [
    {
     "name": "stdout",
     "output_type": "stream",
     "text": [
      "<SpecificationSet: 2 Specifications>\n"
     ]
    }
   ],
   "source": [
    "demo1_specs_yaml = \"\"\"\n",
    "# Partials that define metadata queries\n",
    "# for pipeline execution contexts with\n",
    "# MegaCam r and u-band data, or HSC r-band.\n",
    "\n",
    "---\n",
    "id: \"megacam-r\"\n",
    "metadata_query:\n",
    "  camera: \"megacam\"\n",
    "  filter_name: \"r\"\n",
    "  \n",
    "---\n",
    "id: \"megacam-u\"\n",
    "metadata_query:\n",
    "  camera: \"megacam\"\n",
    "  filter_name: \"u\"\n",
    "\n",
    "---\n",
    "id: \"hsc-r\"\n",
    "metadata_query:\n",
    "  camera: \"hsc\"\n",
    "  filter_name: \"r\"\n",
    "\n",
    "# We'll also write partials for each metric,\n",
    "# that set up the basic test. Alternatively\n",
    "# we could create full specifications to\n",
    "# inherit from for each camera.\n",
    "\n",
    "---\n",
    "id: \"ZeropointRMS\"\n",
    "metric: \"demo1.ZeropointRMS\"\n",
    "threshold:\n",
    "  operator: \"<=\"\n",
    "  unit: \"mmag\"\n",
    "\n",
    "---\n",
    "id: \"Completeness\"\n",
    "metric: \"demo1.Completeness\"\n",
    "threshold:\n",
    "  operator: \">=\"\n",
    "  unit: \"mag\"\n",
    "\n",
    "# Partials to tag specifications as\n",
    "# \"minimum\" requirements or \"stretch\n",
    "# goals\"\n",
    "---\n",
    "id: \"tag-minimum\"\n",
    "tags:\n",
    "  - \"minimum\"\n",
    "\n",
    "---\n",
    "id: \"tag-stretch\"\n",
    "tags:\n",
    "  - \"stretch\"\n",
    "\n",
    "# ZeropointRMS specifications\n",
    "# tailored for each camera, in\n",
    "# minimum and stretch goal variants.\n",
    "\n",
    "---\n",
    "name: \"minimum_megacam_r\"\n",
    "base: [\"#ZeropointRMS\", \"#megacam-r\", \"#tag-minimum\"]\n",
    "threshold:\n",
    "  value: 15.0\n",
    "\n",
    "---\n",
    "name: \"stretch_megacam_r\"\n",
    "base: [\"#ZeropointRMS\", \"#megacam-r\", \"#tag-stretch\"]\n",
    "threshold:\n",
    "  value: 10.0\n",
    "tags:\n",
    "  - \"stretch\"\n",
    "\n",
    "---\n",
    "name: \"minimum_megacam_u\"\n",
    "base: [\"#ZeropointRMS\", \"#megacam-u\", \"#tag-minimum\"]\n",
    "threshold:\n",
    "  value: 30.0\n",
    "tags:\n",
    "  - \"minimum\"\n",
    "\n",
    "---\n",
    "name: \"stretch_megacam_u\"\n",
    "base: [\"#ZeropointRMS\", \"#megacam-u\", \"#tag-stretch\"]\n",
    "threshold:\n",
    "  value: 20.0\n",
    "tags:\n",
    "  - \"stretch\"\n",
    "  \n",
    "---\n",
    "name: \"minimum_hsc_r\"\n",
    "base: [\"#ZeropointRMS\", \"#hsc-r\", \"#tag-minimum\"]\n",
    "threshold:\n",
    "  value: 12.0\n",
    "tags:\n",
    "  - \"minimum\"\n",
    "\n",
    "---\n",
    "name: \"stretch_hsc_r\"\n",
    "base: [\"#ZeropointRMS\", \"#hsc-r\", \"#tag-stretch\"]\n",
    "threshold:\n",
    "  value: 6.0\n",
    "tags:\n",
    "  - \"stretch\"\n",
    " \n",
    "# Competeness specifications,\n",
    "# tailored for each camera in\n",
    "# minimum and stretch goal variants\n",
    "\n",
    "---\n",
    "name: \"minimum_megacam_r\"\n",
    "base: [\"#Completeness\", \"#megacam-r\", \"#tag-minimum\"]\n",
    "threshold:\n",
    "  value: 24.0\n",
    "tags:\n",
    "  - \"minimum\"\n",
    "\n",
    "---\n",
    "name: \"stretch_megacam_r\"\n",
    "base: [\"#Completeness\", \"#megacam-r\", \"#tag-stretch\"]\n",
    "threshold:\n",
    "  value: 26.0\n",
    "tags:\n",
    "  - \"stretch\"\n",
    "  \n",
    "---\n",
    "name: \"minimum_megacam_u\"\n",
    "base: [\"#Completeness\", \"#megacam-u\", \"#tag-minimum\"]\n",
    "threshold:\n",
    "  value: 20.0\n",
    "tags:\n",
    "  - \"minimum\"\n",
    "\n",
    "---\n",
    "name: \"stretch_megacam_u\"\n",
    "base: [\"#Completeness\", \"#megacam-u\", \"#tag-stretch\"]\n",
    "threshold:\n",
    "  value: 24.0\n",
    "tags:\n",
    "  - \"stretch\"\n",
    "  \n",
    "---\n",
    "name: \"minimum_hsc_r\"\n",
    "base: [\"#Completeness\", \"#hsc-r\", \"#tag-minimum\"]\n",
    "threshold:\n",
    "  value: 20.0\n",
    "tags:\n",
    "  - \"minimum\"\n",
    "\n",
    "---\n",
    "name: \"stretch_hsc_r\"\n",
    "base: [\"#Completeness\", \"#hsc-r\", \"#tag-stretch\"]\n",
    "threshold:\n",
    "  value: 28.0\n",
    "tags:\n",
    "  - \"stretch\"\n",
    "\"\"\"\n",
    "\n",
    "with TemporaryDirectory() as temp_dir:\n",
    "    # Write YAML to disk, emulating the verify_metrics package for this demo\n",
    "    specs_dirname = os.path.join(temp_dir, 'demo1')\n",
    "    os.makedirs(specs_dirname)\n",
    "    demo1_specs_path = os.path.join(specs_dirname, 'demo1.yaml')\n",
    "    with open(demo1_specs_path, mode='w') as f:\n",
    "        f.write(demo1_specs_yaml)\n",
    "\n",
    "    # Parse the YAML into a set of Specification objects\n",
    "    demo_specs = lsst.verify.SpecificationSet.load_single_package(specs_dirname)\n",
    "\n",
    "print(demo1_specs)"
   ]
  },
  {
   "cell_type": "markdown",
   "metadata": {},
   "source": [
    "### More metrics and specifications for the demo1 package\n",
    "\n",
    "All the metrics we've created have been associated with the hypothetical \"demo1\" pipeline package. Let's quickly create another set of metrics and specifications for a \"demo1\" pipeline package, which we'll use later. This is an excuse to show that metrics and specifications can be created dynamically in Python too."
   ]
  },
  {
   "cell_type": "code",
   "execution_count": 7,
   "metadata": {},
   "outputs": [
    {
     "data": {
      "text/plain": [
       "<lsst.verify.metric.Metric at 0x10efab8d0>"
      ]
     },
     "execution_count": 7,
     "metadata": {},
     "output_type": "execute_result"
    }
   ],
   "source": [
    "sourcecount_metric = lsst.verify.Metric(\n",
    "    'demo2.SourceCount',\n",
    "    \"Number of matched sources.\",\n",
    "    unit=u.dimensionless_unscaled,\n",
    "    tags=['demo'])\n",
    "demo_metrics.insert(sourcecount_metric)\n",
    "\n",
    "demo_metrics['demo2.SourceCount']"
   ]
  },
  {
   "cell_type": "markdown",
   "metadata": {},
   "source": [
    "Notice that `demo1.SourceCount` is just a count; it doesn't have physical units. We designated this type of unit with Astropy's [astropy.units.dimensionless_unscaled](http://docs.astropy.org/en/stable/units/standard_units.html#the-dimensionless-unit) unit. Its string form is an empty string:"
   ]
  },
  {
   "cell_type": "code",
   "execution_count": 8,
   "metadata": {},
   "outputs": [
    {
     "data": {
      "text/plain": [
       "True"
      ]
     },
     "execution_count": 8,
     "metadata": {},
     "output_type": "execute_result"
    }
   ],
   "source": [
    "u.dimensionless_unscaled == u.Unit('')"
   ]
  },
  {
   "cell_type": "markdown",
   "metadata": {},
   "source": [
    "Next, we'll create complementary specifications:"
   ]
  },
  {
   "cell_type": "code",
   "execution_count": 9,
   "metadata": {
    "collapsed": true
   },
   "outputs": [],
   "source": [
    "sourcecount_minimum_spec = lsst.verify.ThresholdSpecification(\n",
    "    'demo2.SourceCount.minimum_cfht_r',\n",
    "    250 * u.dimensionless_unscaled,\n",
    "    '>=',\n",
    "    tags=['minimum'],\n",
    "    metadata_query={'camera': 'megacam', 'filter_name': 'r'}\n",
    ")\n",
    "demo_specs.insert(sourcecount_minimum_spec)\n",
    "\n",
    "sourcecount_stretch_spec = lsst.verify.ThresholdSpecification(\n",
    "    'demo2.SourceCount.stretch_cfht_r',\n",
    "    500 * u.dimensionless_unscaled,\n",
    "    '>=',\n",
    "    tags=['stretch'],\n",
    "    metadata_query={'camera': 'megacam', 'filter_name': 'r'}\n",
    ")\n",
    "demo_specs.insert(sourcecount_stretch_spec)"
   ]
  },
  {
   "cell_type": "markdown",
   "metadata": {},
   "source": [
    "That's it. We now have a set of metrics and specifications defined for two packages, `demo1` and `demo2`.\n",
    "\n",
    "Of course, these examples are contrived for this tutorial. Normally metrics and specifications aren't defined in notebooks or code, but with a pull request to the verify_metrics GitHub repository."
   ]
  },
  {
   "cell_type": "markdown",
   "metadata": {},
   "source": [
    "## Making measurements\n",
    "\n",
    "Now that we've defined metrics, we can measure them. Measurements happen in Pipelines code, either within regular Tasks, or in dedicated afterburner Tasks.\n",
    "\n",
    "The Verification Framework provides two patterns for making measurements: either using the full measurement API, or a more lightweight capture of measurement quantities. For the `demo1` package we'll use the more comprehensive approach, and make lightweight measurements for the `demo2` package."
   ]
  },
  {
   "cell_type": "markdown",
   "metadata": {},
   "source": [
    "### Measuring ZeropointRMS\n",
    "\n",
    "In our Task, we might have arrays of matched photometry and catalogs stars with known photometry:"
   ]
  },
  {
   "cell_type": "code",
   "execution_count": 10,
   "metadata": {
    "collapsed": true
   },
   "outputs": [],
   "source": [
    "catalog_mags = np.random.uniform(18, 26, size=100)*u.mag\n",
    "\n",
    "obs_mags = catalog_mags - 25*u.mag + np.random.normal(scale=12.0, size=100)*u.mmag"
   ]
  },
  {
   "cell_type": "markdown",
   "metadata": {},
   "source": [
    "From these the task might estimate a zeropoint:"
   ]
  },
  {
   "cell_type": "code",
   "execution_count": 11,
   "metadata": {
    "collapsed": true
   },
   "outputs": [],
   "source": [
    "zp = np.median(catalog_mags - obs_mags)"
   ]
  },
  {
   "cell_type": "markdown",
   "metadata": {},
   "source": [
    "And a scatter:"
   ]
  },
  {
   "cell_type": "code",
   "execution_count": 12,
   "metadata": {
    "collapsed": true
   },
   "outputs": [],
   "source": [
    "zp_rms = np.std(catalog_mags - obs_mags)"
   ]
  },
  {
   "cell_type": "markdown",
   "metadata": {},
   "source": [
    "`zp_rms` is a measurement of the `demo1.ZeropointRMS` metric that we'd like to capture. Let's create a `lsst.verify.Measurement` object to do that:"
   ]
  },
  {
   "cell_type": "code",
   "execution_count": 13,
   "metadata": {
    "collapsed": true
   },
   "outputs": [],
   "source": [
    "zp_meas = lsst.verify.Measurement('demo1.ZeropointRMS', zp_rms)"
   ]
  },
  {
   "cell_type": "markdown",
   "metadata": {},
   "source": [
    "We've captured the measurement, but there's more information that we be useful for later understanding the measurement. These additional data are called measurement *extras*:"
   ]
  },
  {
   "cell_type": "code",
   "execution_count": 14,
   "metadata": {
    "collapsed": true
   },
   "outputs": [],
   "source": [
    "zp_meas.extras['zp'] = lsst.verify.Datum(zp, label=\"$m_0$\",\n",
    "                                         description=\"Estimated zeropoint.\")\n",
    "zp_meas.extras['catalog_mags'] = lsst.verify.Datum(catalog_mags, label=\"$m_\\mathrm{cat}$\",\n",
    "                                                   description=\"Catalog magnitudes.\")\n",
    "zp_meas.extras['obs_mags'] = lsst.verify.Datum(obs_mags, label=\"$m_\\mathrm{obs}\",\n",
    "                                               description=\"Instrument magnitudes.\")"
   ]
  },
  {
   "cell_type": "markdown",
   "metadata": {},
   "source": [
    "`Datum` acts as a wrapper as information, like Astropy quantities, that adds plotting labels and descriptions to help document our datasets."
   ]
  },
  {
   "cell_type": "markdown",
   "metadata": {},
   "source": [
    "In a Task, we might want to add annotations about the Task's configuration. These annotations will be added to the metadata of the pipeline execution. For example, this is an annotation of the function used to estimate the RMS:"
   ]
  },
  {
   "cell_type": "code",
   "execution_count": 15,
   "metadata": {
    "collapsed": true
   },
   "outputs": [],
   "source": [
    "zp_meas.notes['estimator'] = 'numpy.std'"
   ]
  },
  {
   "cell_type": "markdown",
   "metadata": {},
   "source": [
    "### Measuring Completeness\n",
    "\n",
    "Our task also measures photometric completeness. Let's making another `Measurement` to record this metric measurement, along with extras:"
   ]
  },
  {
   "cell_type": "code",
   "execution_count": 16,
   "metadata": {
    "collapsed": true
   },
   "outputs": [],
   "source": [
    "# Here's a mock dataset\n",
    "mag_grid = np.linspace(22, 28, num=50, endpoint=True)\n",
    "c_percent = 1. / np.cosh((mag_grid - mag_grid.min()) / 2.) * 100.\n",
    "\n",
    "# Make the measurement\n",
    "completeness_mag = np.interp(50.0, c_percent[::-1], mag_grid[::-1]) * u.mag\n",
    "\n",
    "# Package the measurement\n",
    "completeness_meas = lsst.verify.Measurement(\n",
    "    'demo1.Completeness',\n",
    "    completeness_mag,\n",
    ")\n",
    "completeness_meas.extras['mag_grid'] = lsst.verify.Datum(\n",
    "    mag_grid*u.mag,\n",
    "    label=\"$m$\",\n",
    "    description=\"Magnitude\")\n",
    "completeness_meas.extras['c_frac'] = lsst.verify.Datum(\n",
    "    c_percent*u.percent,\n",
    "    label=\"$C$\",\n",
    "    description=\"Photometric catalog completeness.\")"
   ]
  },
  {
   "cell_type": "markdown",
   "metadata": {},
   "source": [
    "## Packaging measurements in a Verification Job\n",
    "\n",
    "In the Verification Framework, a \"job\" is a run of pipeline that produces metric measurements. The `lsst.verify.Job` class allows us to package several measurements from the pipeline run. With a `Job` object, we can then analyze the measurements, save verification datasets to disk, and dispatch datasets to the SQUASH database.\n",
    "\n",
    "Normally when we create a `Job` object from scratch we seed it with the metrics and specifications defined in the `verify_metrics` repo:"
   ]
  },
  {
   "cell_type": "code",
   "execution_count": 17,
   "metadata": {
    "collapsed": true
   },
   "outputs": [],
   "source": [
    "job = lsst.verify.Job.load_metrics_package()"
   ]
  },
  {
   "cell_type": "markdown",
   "metadata": {},
   "source": [
    "Of course, we created ad hoc metrics and specifications outside of `verify_metrics`. We can add those to the `job`:"
   ]
  },
  {
   "cell_type": "code",
   "execution_count": 18,
   "metadata": {
    "collapsed": true
   },
   "outputs": [],
   "source": [
    "job.metrics.update(demo_metrics)\n",
    "job.specs.update(demo_specs)"
   ]
  },
  {
   "cell_type": "markdown",
   "metadata": {},
   "source": [
    "Now add the measurements:"
   ]
  },
  {
   "cell_type": "code",
   "execution_count": 19,
   "metadata": {
    "collapsed": true
   },
   "outputs": [],
   "source": [
    "job.measurements.insert(zp_meas)\n",
    "job.measurements.insert(completeness_meas)"
   ]
  },
  {
   "cell_type": "markdown",
   "metadata": {},
   "source": [
    "The pipeline Tasks that is making this Job knows about the camera and filter of the dataset. The Task code can record this metadata:"
   ]
  },
  {
   "cell_type": "code",
   "execution_count": 20,
   "metadata": {
    "collapsed": true
   },
   "outputs": [],
   "source": [
    "job.meta.update({'camera': 'megacam', 'filter_name': 'r'})"
   ]
  },
  {
   "cell_type": "markdown",
   "metadata": {},
   "source": [
    "Job metadata is a `dict`-like mapping. Here's the full set of metadata recorded for the `job`:"
   ]
  },
  {
   "cell_type": "code",
   "execution_count": 21,
   "metadata": {},
   "outputs": [
    {
     "data": {
      "text/plain": [
       "ChainMap({'camera': 'megacam', 'filter_name': 'r'})"
      ]
     },
     "execution_count": 21,
     "metadata": {},
     "output_type": "execute_result"
    }
   ],
   "source": [
    "job.meta"
   ]
  },
  {
   "cell_type": "markdown",
   "metadata": {},
   "source": [
    "As expected, the `camera` and `filter_name` is present, but so is the `estimator` annotation that we attached to the `demo1.ZeropointRMS` measurement. Measurement annotations are automatically included in a Job's metadata, but keys are prefixed with the measurement's metric name. Specification `metadata_query` definitions can act on both job and measurement-level metadata."
   ]
  },
  {
   "cell_type": "markdown",
   "metadata": {},
   "source": [
    "Before a Task exits, it should write the verification Job dataset to disk. Serialization to disk is a temporary shim until `Job` datasets can be persisted through the Butler.\n",
    "\n",
    "The native serialization format of the Verification Framework is JSON:"
   ]
  },
  {
   "cell_type": "code",
   "execution_count": 22,
   "metadata": {
    "collapsed": true
   },
   "outputs": [],
   "source": [
    "job.write('demo1.verify.json')"
   ]
  },
  {
   "cell_type": "markdown",
   "metadata": {},
   "source": [
    "## Making lightweight quantity-only measurements with output_quantities()\n",
    "\n",
    "`lsst.verify.Measurement` and `lsst.verify.Job` classes are necessary for producing rich job datasets (for example, associating extras with measurements. Many Tasks, though, won't need this functionality. A Task might record a measurement as an astropy quantity and persist that measurement with as little overhead as possible. The `lsst.verify.output_quantities` function enables this usecase.\n",
    "\n",
    "First, a Task will create a dictionary to collect measurements throughout the lifetime of the Task's execution:"
   ]
  },
  {
   "cell_type": "code",
   "execution_count": 23,
   "metadata": {
    "collapsed": true
   },
   "outputs": [],
   "source": [
    "demo2_measurements = {}"
   ]
  },
  {
   "cell_type": "markdown",
   "metadata": {},
   "source": [
    "Then the task measures the `demo2.SourceCount` metric:"
   ]
  },
  {
   "cell_type": "code",
   "execution_count": 24,
   "metadata": {
    "collapsed": true
   },
   "outputs": [],
   "source": [
    "demo2_measurements['demo2.SourceCount'] = 350*u.dimensionless_unscaled"
   ]
  },
  {
   "cell_type": "markdown",
   "metadata": {},
   "source": [
    "Measurements are *always* Astropy quantities.\n",
    "\n",
    "Finally, before the Task returns, it can output measurements to disk. The default filename format for the Verification job dataset file is `{package}.verify.json`."
   ]
  },
  {
   "cell_type": "code",
   "execution_count": 25,
   "metadata": {},
   "outputs": [
    {
     "data": {
      "text/plain": [
       "'demo2.verify.json'"
      ]
     },
     "execution_count": 25,
     "metadata": {},
     "output_type": "execute_result"
    }
   ],
   "source": [
    "lsst.verify.output_quantities('demo2', demo2_measurements)"
   ]
  },
  {
   "cell_type": "markdown",
   "metadata": {},
   "source": [
    "## Post processing verification jobs\n",
    "\n",
    "Our hypothetical pipeline has produced measurements for two packages: `demo1` and `demo2`. These measurements are persisted to `demo1.verify.json` and `demo2.verify.json` files on disk. Now we'd like to gather these measurements and either submit them to the SQUASH dashboard, or collate the measurements for local analysis.\n",
    "\n",
    "The `dispatch_verify.py` tool lets us do this. For this demo we won't upload measurements to SQUASH. Instead we will combine the mesurements into one JSON file, and also add metadata about the versions of the pipeline packages that produced the measurements."
   ]
  },
  {
   "cell_type": "code",
   "execution_count": 26,
   "metadata": {},
   "outputs": [
    {
     "name": "stdout",
     "output_type": "stream",
     "text": [
      "verify.bin.dispatchverify.main INFO: Loading demo1.verify.json\n",
      "verify.bin.dispatchverify.main INFO: Loading demo2.verify.json\n",
      "verify.bin.dispatchverify.main INFO: Merging verification Job JSON.\n",
      "verify.bin.dispatchverify.main INFO: Refreshing metric definitions from verify_metrics\n",
      "verify.bin.dispatchverify.main INFO: Writing Job JSON to demo.verify.json.\n"
     ]
    }
   ],
   "source": [
    "%%bash\n",
    "export DYLD_LIBRARY_PATH=$LSST_LIBRARY_PATH\n",
    "dispatch_verify.py --test --ignore-lsstsw --write demo.verify.json demo1.verify.json demo2.verify.json"
   ]
  },
  {
   "cell_type": "markdown",
   "metadata": {},
   "source": [
    "The flags used here are:\n",
    "    \n",
    "- `--test`: prevents `dispatch_verify.py` from attempting to upload to the SQUASH service.\n",
    "- `--ignore-lsstsw`: since the `$LSSTSW` environment variable may not be available in this notebook context, we'll avoid scraping it for information (such as Git commits and branches of packages included in the Pipeline stack).\n",
    "- `--write demo.verify.json`: Write the merged job dataset to `demo.verify.json`.\n",
    "- `demo1.verify.json` and `demo2.verify.json` are inputs, as position arguments, pointing to the job JSON files that we created earlier with metric measurements.\n",
    "\n",
    "See `dispatch_verify.py --help` for more information."
   ]
  },
  {
   "cell_type": "markdown",
   "metadata": {
    "collapsed": true
   },
   "source": [
    "## Analyze verification results locally\n",
    "\n",
    "For code development, it's convenient to look at the results of verification measurements locally, rather than in SQUASH. The Verification Framework is designed for this workflow, with special affordances for Jupyter Notebook users.\n",
    "\n",
    "The collated measurement dataset produced by `dispatch_verify.py` earlier is in the file `demo.verify.json`. Let's open this dataset using the `Job.deserialize` class method:"
   ]
  },
  {
   "cell_type": "code",
   "execution_count": 27,
   "metadata": {},
   "outputs": [],
   "source": [
    "with open('demo.verify.json') as f:\n",
    "    job = lsst.verify.Job.deserialize(**json.load(f))"
   ]
  },
  {
   "cell_type": "markdown",
   "metadata": {},
   "source": [
    "### Making reports"
   ]
  },
  {
   "cell_type": "markdown",
   "metadata": {},
   "source": [
    "With a job dataset, we can make a report that summarizes the pass/fail status of specifications that have corresponding measurement. Reports, `lsst.verify.Report` instances, are thin wrappers around Astropy Tables, and look great in Jupyter Notebooks:"
   ]
  },
  {
   "cell_type": "code",
   "execution_count": 28,
   "metadata": {},
   "outputs": [
    {
     "data": {
      "text/html": [
       "&lt;Table length=6&gt;\n",
       "<table id=\"table4546532968-576741\" class=\"table-striped table-bordered table-condensed\">\n",
       "<thead><tr><th>Status</th><th>Specification</th><th>Measurement</th><th>Test</th></tr></thead>\n",
       "<tr><td>✅</td><td>demo1.Completeness.minimum_megacam_r</td><td>24.6 $\\mathrm{mag}$</td><td>$x$ &gt;= 24.0 $\\mathrm{mag}$</td></tr>\n",
       "<tr><td>❌</td><td>demo1.Completeness.stretch_megacam_r</td><td>24.6 $\\mathrm{mag}$</td><td>$x$ &gt;= 26.0 $\\mathrm{mag}$</td></tr>\n",
       "<tr><td>✅</td><td>demo1.ZeropointRMS.minimum_megacam_r</td><td>12.0 $\\mathrm{mmag}$</td><td>$x$ &lt;= 15.0 $\\mathrm{mmag}$</td></tr>\n",
       "<tr><td>❌</td><td>demo1.ZeropointRMS.stretch_megacam_r</td><td>12.0 $\\mathrm{mmag}$</td><td>$x$ &lt;= 10.0 $\\mathrm{mmag}$</td></tr>\n",
       "<tr><td>✅</td><td>demo2.SourceCount.minimum_cfht_r</td><td>350.0 $\\mathrm{}$</td><td>$x$ &gt;= 250.0 $\\mathrm{}$</td></tr>\n",
       "<tr><td>❌</td><td>demo2.SourceCount.stretch_cfht_r</td><td>350.0 $\\mathrm{}$</td><td>$x$ &gt;= 500.0 $\\mathrm{}$</td></tr>\n",
       "</table><style>table.dataTable {clear: both; width: auto !important; margin: 0 !important;}\n",
       ".dataTables_info, .dataTables_length, .dataTables_filter, .dataTables_paginate{\n",
       "display: inline-block; margin-right: 1em; }\n",
       ".paginate_button { margin-right: 5px; }\n",
       "</style>\n",
       "<script>\n",
       "require.config({paths: {\n",
       "    datatables: 'https://cdn.datatables.net/1.10.9/js/jquery.dataTables.min'\n",
       "}});\n",
       "require([\"datatables\"], function(){\n",
       "    console.log(\"$('#table4546532968-576741').dataTable()\");\n",
       "    $('#table4546532968-576741').dataTable({\n",
       "        \"order\": [],\n",
       "        \"iDisplayLength\": 50,\n",
       "        \"aLengthMenu\": [[10, 25, 50, 100, 500, 1000, -1], [10, 25, 50, 100, 500, 1000, 'All']],\n",
       "        \"pagingType\": \"full_numbers\"\n",
       "    });\n",
       "});\n",
       "</script>\n"
      ],
      "text/plain": [
       "<IPython.core.display.HTML object>"
      ]
     },
     "execution_count": 28,
     "metadata": {},
     "output_type": "execute_result"
    }
   ],
   "source": [
    "report = job.report()\n",
    "report.show()"
   ]
  },
  {
   "cell_type": "markdown",
   "metadata": {},
   "source": [
    "Notice that the report only shows specification tests that are relevant to the measurements. Recall that the job metadata indicates these measurements are with CFHT/MegaCam in the $r$-band:"
   ]
  },
  {
   "cell_type": "code",
   "execution_count": 29,
   "metadata": {},
   "outputs": [
    {
     "name": "stdout",
     "output_type": "stream",
     "text": [
      "ChainMap({'camera': 'megacam', 'packages': {}, 'filter_name': 'r'}, {}, {'demo1.ZeropointRMS.estimator': 'numpy.std'}, {})\n"
     ]
    }
   ],
   "source": [
    "print(job.meta)"
   ]
  },
  {
   "cell_type": "markdown",
   "metadata": {},
   "source": [
    "Thus all the specifications having to do with HSC or the $u$-band aren't tested because those tests are meaningless with the current measurements.\n",
    "\n",
    "When there are many measurements and specifications, you might be more interesting in producing reports around specific topics. Such tailored reports can be made by passing arguments to the `Job.report` method.\n",
    "\n",
    "For example, this is a report listing only `demo1` package metrics:"
   ]
  },
  {
   "cell_type": "code",
   "execution_count": 30,
   "metadata": {},
   "outputs": [
    {
     "data": {
      "text/html": [
       "&lt;Table length=4&gt;\n",
       "<table id=\"table4546533808-248874\" class=\"table-striped table-bordered table-condensed\">\n",
       "<thead><tr><th>Status</th><th>Specification</th><th>Measurement</th><th>Test</th></tr></thead>\n",
       "<tr><td>✅</td><td>demo1.Completeness.minimum_megacam_r</td><td>24.6 $\\mathrm{mag}$</td><td>$x$ &gt;= 24.0 $\\mathrm{mag}$</td></tr>\n",
       "<tr><td>❌</td><td>demo1.Completeness.stretch_megacam_r</td><td>24.6 $\\mathrm{mag}$</td><td>$x$ &gt;= 26.0 $\\mathrm{mag}$</td></tr>\n",
       "<tr><td>✅</td><td>demo1.ZeropointRMS.minimum_megacam_r</td><td>12.0 $\\mathrm{mmag}$</td><td>$x$ &lt;= 15.0 $\\mathrm{mmag}$</td></tr>\n",
       "<tr><td>❌</td><td>demo1.ZeropointRMS.stretch_megacam_r</td><td>12.0 $\\mathrm{mmag}$</td><td>$x$ &lt;= 10.0 $\\mathrm{mmag}$</td></tr>\n",
       "</table><style>table.dataTable {clear: both; width: auto !important; margin: 0 !important;}\n",
       ".dataTables_info, .dataTables_length, .dataTables_filter, .dataTables_paginate{\n",
       "display: inline-block; margin-right: 1em; }\n",
       ".paginate_button { margin-right: 5px; }\n",
       "</style>\n",
       "<script>\n",
       "require.config({paths: {\n",
       "    datatables: 'https://cdn.datatables.net/1.10.9/js/jquery.dataTables.min'\n",
       "}});\n",
       "require([\"datatables\"], function(){\n",
       "    console.log(\"$('#table4546533808-248874').dataTable()\");\n",
       "    $('#table4546533808-248874').dataTable({\n",
       "        \"order\": [],\n",
       "        \"iDisplayLength\": 50,\n",
       "        \"aLengthMenu\": [[10, 25, 50, 100, 500, 1000, -1], [10, 25, 50, 100, 500, 1000, 'All']],\n",
       "        \"pagingType\": \"full_numbers\"\n",
       "    });\n",
       "});\n",
       "</script>\n"
      ],
      "text/plain": [
       "<IPython.core.display.HTML object>"
      ]
     },
     "execution_count": 30,
     "metadata": {},
     "output_type": "execute_result"
    }
   ],
   "source": [
    "report = job.report(name='demo1')\n",
    "report.show()"
   ]
  },
  {
   "cell_type": "markdown",
   "metadata": {},
   "source": [
    "And this report shows results for the `demo1.ZeropointRMS` metrics:"
   ]
  },
  {
   "cell_type": "code",
   "execution_count": 31,
   "metadata": {},
   "outputs": [
    {
     "data": {
      "text/html": [
       "&lt;Table length=2&gt;\n",
       "<table id=\"table4546534144-152709\" class=\"table-striped table-bordered table-condensed\">\n",
       "<thead><tr><th>Status</th><th>Specification</th><th>Measurement</th><th>Test</th></tr></thead>\n",
       "<tr><td>✅</td><td>demo1.ZeropointRMS.minimum_megacam_r</td><td>12.0 $\\mathrm{mmag}$</td><td>$x$ &lt;= 15.0 $\\mathrm{mmag}$</td></tr>\n",
       "<tr><td>❌</td><td>demo1.ZeropointRMS.stretch_megacam_r</td><td>12.0 $\\mathrm{mmag}$</td><td>$x$ &lt;= 10.0 $\\mathrm{mmag}$</td></tr>\n",
       "</table><style>table.dataTable {clear: both; width: auto !important; margin: 0 !important;}\n",
       ".dataTables_info, .dataTables_length, .dataTables_filter, .dataTables_paginate{\n",
       "display: inline-block; margin-right: 1em; }\n",
       ".paginate_button { margin-right: 5px; }\n",
       "</style>\n",
       "<script>\n",
       "require.config({paths: {\n",
       "    datatables: 'https://cdn.datatables.net/1.10.9/js/jquery.dataTables.min'\n",
       "}});\n",
       "require([\"datatables\"], function(){\n",
       "    console.log(\"$('#table4546534144-152709').dataTable()\");\n",
       "    $('#table4546534144-152709').dataTable({\n",
       "        \"order\": [],\n",
       "        \"iDisplayLength\": 50,\n",
       "        \"aLengthMenu\": [[10, 25, 50, 100, 500, 1000, -1], [10, 25, 50, 100, 500, 1000, 'All']],\n",
       "        \"pagingType\": \"full_numbers\"\n",
       "    });\n",
       "});\n",
       "</script>\n"
      ],
      "text/plain": [
       "<IPython.core.display.HTML object>"
      ]
     },
     "execution_count": 31,
     "metadata": {},
     "output_type": "execute_result"
    }
   ],
   "source": [
    "report = job.report(name='demo1.ZeropointRMS')\n",
    "report.show()"
   ]
  },
  {
   "cell_type": "markdown",
   "metadata": {},
   "source": [
    "Recall that we added tags to the specifications to designate `minimum` and `stretch` goals, as in seen in the `demo1.ZeropointRMS.minimum_megacam_r` specification:"
   ]
  },
  {
   "cell_type": "code",
   "execution_count": 32,
   "metadata": {},
   "outputs": [
    {
     "data": {
      "text/plain": [
       "{'minimum'}"
      ]
     },
     "execution_count": 32,
     "metadata": {},
     "output_type": "execute_result"
    }
   ],
   "source": [
    "job.specs['demo1.ZeropointRMS.minimum_megacam_r'].tags"
   ]
  },
  {
   "cell_type": "markdown",
   "metadata": {},
   "source": [
    "We can tailor the report to show tests only against these `minimum` specifications:"
   ]
  },
  {
   "cell_type": "code",
   "execution_count": 33,
   "metadata": {},
   "outputs": [
    {
     "data": {
      "text/html": [
       "&lt;Table length=3&gt;\n",
       "<table id=\"table4546535376-174154\" class=\"table-striped table-bordered table-condensed\">\n",
       "<thead><tr><th>Status</th><th>Specification</th><th>Measurement</th><th>Test</th></tr></thead>\n",
       "<tr><td>✅</td><td>demo1.Completeness.minimum_megacam_r</td><td>24.6 $\\mathrm{mag}$</td><td>$x$ &gt;= 24.0 $\\mathrm{mag}$</td></tr>\n",
       "<tr><td>✅</td><td>demo1.ZeropointRMS.minimum_megacam_r</td><td>12.0 $\\mathrm{mmag}$</td><td>$x$ &lt;= 15.0 $\\mathrm{mmag}$</td></tr>\n",
       "<tr><td>✅</td><td>demo2.SourceCount.minimum_cfht_r</td><td>350.0 $\\mathrm{}$</td><td>$x$ &gt;= 250.0 $\\mathrm{}$</td></tr>\n",
       "</table><style>table.dataTable {clear: both; width: auto !important; margin: 0 !important;}\n",
       ".dataTables_info, .dataTables_length, .dataTables_filter, .dataTables_paginate{\n",
       "display: inline-block; margin-right: 1em; }\n",
       ".paginate_button { margin-right: 5px; }\n",
       "</style>\n",
       "<script>\n",
       "require.config({paths: {\n",
       "    datatables: 'https://cdn.datatables.net/1.10.9/js/jquery.dataTables.min'\n",
       "}});\n",
       "require([\"datatables\"], function(){\n",
       "    console.log(\"$('#table4546535376-174154').dataTable()\");\n",
       "    $('#table4546535376-174154').dataTable({\n",
       "        \"order\": [],\n",
       "        \"iDisplayLength\": 50,\n",
       "        \"aLengthMenu\": [[10, 25, 50, 100, 500, 1000, -1], [10, 25, 50, 100, 500, 1000, 'All']],\n",
       "        \"pagingType\": \"full_numbers\"\n",
       "    });\n",
       "});\n",
       "</script>\n"
      ],
      "text/plain": [
       "<IPython.core.display.HTML object>"
      ]
     },
     "execution_count": 33,
     "metadata": {},
     "output_type": "execute_result"
    }
   ],
   "source": [
    "report = job.report(spec_tags=['minimum'])\n",
    "report.show()"
   ]
  },
  {
   "cell_type": "markdown",
   "metadata": {},
   "source": [
    "Notice that the `spec_tags` argument takes a sequence of tags. Each tag is treated as an `AND` filter with the others. For example, there are no specifications that are both `minimum` and `stretch`, so the report is empty:"
   ]
  },
  {
   "cell_type": "code",
   "execution_count": 34,
   "metadata": {},
   "outputs": [
    {
     "data": {
      "text/html": [
       "&lt;Table length=0&gt;\n",
       "<table id=\"table4546533472-196573\" class=\"table-striped table-bordered table-condensed\">\n",
       "<thead><tr><th>Status</th><th>Specification</th><th>Measurement</th><th>Test</th></tr></thead>\n",
       "</table><style>table.dataTable {clear: both; width: auto !important; margin: 0 !important;}\n",
       ".dataTables_info, .dataTables_length, .dataTables_filter, .dataTables_paginate{\n",
       "display: inline-block; margin-right: 1em; }\n",
       ".paginate_button { margin-right: 5px; }\n",
       "</style>\n",
       "<script>\n",
       "require.config({paths: {\n",
       "    datatables: 'https://cdn.datatables.net/1.10.9/js/jquery.dataTables.min'\n",
       "}});\n",
       "require([\"datatables\"], function(){\n",
       "    console.log(\"$('#table4546533472-196573').dataTable()\");\n",
       "    $('#table4546533472-196573').dataTable({\n",
       "        \"order\": [],\n",
       "        \"iDisplayLength\": 50,\n",
       "        \"aLengthMenu\": [[10, 25, 50, 100, 500, 1000, -1], [10, 25, 50, 100, 500, 1000, 'All']],\n",
       "        \"pagingType\": \"full_numbers\"\n",
       "    });\n",
       "});\n",
       "</script>\n"
      ],
      "text/plain": [
       "<IPython.core.display.HTML object>"
      ]
     },
     "execution_count": 34,
     "metadata": {},
     "output_type": "execute_result"
    }
   ],
   "source": [
    "report = job.report(spec_tags=['minimum', 'stretch'])\n",
    "report.show()"
   ]
  },
  {
   "cell_type": "markdown",
   "metadata": {},
   "source": [
    "In addition to specification tags, on can filter by metric tags by setting teh `metric_tags` argument.\n",
    "\n",
    "Finally, these filters can be combined. For example, this report summarizes specification tests for metrics from the `demo1` package against `minimum` goals:"
   ]
  },
  {
   "cell_type": "code",
   "execution_count": 35,
   "metadata": {},
   "outputs": [
    {
     "data": {
      "text/html": [
       "&lt;Table length=2&gt;\n",
       "<table id=\"table4546534536-757851\" class=\"table-striped table-bordered table-condensed\">\n",
       "<thead><tr><th>Status</th><th>Specification</th><th>Measurement</th><th>Test</th></tr></thead>\n",
       "<tr><td>✅</td><td>demo1.Completeness.minimum_megacam_r</td><td>24.6 $\\mathrm{mag}$</td><td>$x$ &gt;= 24.0 $\\mathrm{mag}$</td></tr>\n",
       "<tr><td>✅</td><td>demo1.ZeropointRMS.minimum_megacam_r</td><td>12.0 $\\mathrm{mmag}$</td><td>$x$ &lt;= 15.0 $\\mathrm{mmag}$</td></tr>\n",
       "</table><style>table.dataTable {clear: both; width: auto !important; margin: 0 !important;}\n",
       ".dataTables_info, .dataTables_length, .dataTables_filter, .dataTables_paginate{\n",
       "display: inline-block; margin-right: 1em; }\n",
       ".paginate_button { margin-right: 5px; }\n",
       "</style>\n",
       "<script>\n",
       "require.config({paths: {\n",
       "    datatables: 'https://cdn.datatables.net/1.10.9/js/jquery.dataTables.min'\n",
       "}});\n",
       "require([\"datatables\"], function(){\n",
       "    console.log(\"$('#table4546534536-757851').dataTable()\");\n",
       "    $('#table4546534536-757851').dataTable({\n",
       "        \"order\": [],\n",
       "        \"iDisplayLength\": 50,\n",
       "        \"aLengthMenu\": [[10, 25, 50, 100, 500, 1000, -1], [10, 25, 50, 100, 500, 1000, 'All']],\n",
       "        \"pagingType\": \"full_numbers\"\n",
       "    });\n",
       "});\n",
       "</script>\n"
      ],
      "text/plain": [
       "<IPython.core.display.HTML object>"
      ]
     },
     "execution_count": 35,
     "metadata": {},
     "output_type": "execute_result"
    }
   ],
   "source": [
    "report = job.report(name='demo1', spec_tags=['minimum'])\n",
    "report.show()"
   ]
  },
  {
   "cell_type": "markdown",
   "metadata": {},
   "source": [
    "### Data behind the measurements\n",
    "\n",
    "TK."
   ]
  },
  {
   "cell_type": "code",
   "execution_count": 36,
   "metadata": {},
   "outputs": [
    {
     "data": {
      "text/html": [
       "\n",
       "    <div class=\"bk-root\">\n",
       "        <a href=\"http://bokeh.pydata.org\" target=\"_blank\" class=\"bk-logo bk-logo-small bk-logo-notebook\"></a>\n",
       "        <span id=\"8f2b77ea-64a2-4449-9acf-3324c8f90bb3\">Loading BokehJS ...</span>\n",
       "    </div>"
      ]
     },
     "metadata": {},
     "output_type": "display_data"
    },
    {
     "data": {
      "application/javascript": [
       "\n",
       "(function(global) {\n",
       "  function now() {\n",
       "    return new Date();\n",
       "  }\n",
       "\n",
       "  var force = true;\n",
       "\n",
       "  if (typeof (window._bokeh_onload_callbacks) === \"undefined\" || force === true) {\n",
       "    window._bokeh_onload_callbacks = [];\n",
       "    window._bokeh_is_loading = undefined;\n",
       "  }\n",
       "\n",
       "\n",
       "  \n",
       "  if (typeof (window._bokeh_timeout) === \"undefined\" || force === true) {\n",
       "    window._bokeh_timeout = Date.now() + 5000;\n",
       "    window._bokeh_failed_load = false;\n",
       "  }\n",
       "\n",
       "  var NB_LOAD_WARNING = {'data': {'text/html':\n",
       "     \"<div style='background-color: #fdd'>\\n\"+\n",
       "     \"<p>\\n\"+\n",
       "     \"BokehJS does not appear to have successfully loaded. If loading BokehJS from CDN, this \\n\"+\n",
       "     \"may be due to a slow or bad network connection. Possible fixes:\\n\"+\n",
       "     \"</p>\\n\"+\n",
       "     \"<ul>\\n\"+\n",
       "     \"<li>re-rerun `output_notebook()` to attempt to load from CDN again, or</li>\\n\"+\n",
       "     \"<li>use INLINE resources instead, as so:</li>\\n\"+\n",
       "     \"</ul>\\n\"+\n",
       "     \"<code>\\n\"+\n",
       "     \"from bokeh.resources import INLINE\\n\"+\n",
       "     \"output_notebook(resources=INLINE)\\n\"+\n",
       "     \"</code>\\n\"+\n",
       "     \"</div>\"}};\n",
       "\n",
       "  function display_loaded() {\n",
       "    if (window.Bokeh !== undefined) {\n",
       "      var el = document.getElementById(\"8f2b77ea-64a2-4449-9acf-3324c8f90bb3\");\n",
       "      el.textContent = \"BokehJS \" + Bokeh.version + \" successfully loaded.\";\n",
       "    } else if (Date.now() < window._bokeh_timeout) {\n",
       "      setTimeout(display_loaded, 100)\n",
       "    }\n",
       "  }\n",
       "\n",
       "  function run_callbacks() {\n",
       "    window._bokeh_onload_callbacks.forEach(function(callback) { callback() });\n",
       "    delete window._bokeh_onload_callbacks\n",
       "    console.info(\"Bokeh: all callbacks have finished\");\n",
       "  }\n",
       "\n",
       "  function load_libs(js_urls, callback) {\n",
       "    window._bokeh_onload_callbacks.push(callback);\n",
       "    if (window._bokeh_is_loading > 0) {\n",
       "      console.log(\"Bokeh: BokehJS is being loaded, scheduling callback at\", now());\n",
       "      return null;\n",
       "    }\n",
       "    if (js_urls == null || js_urls.length === 0) {\n",
       "      run_callbacks();\n",
       "      return null;\n",
       "    }\n",
       "    console.log(\"Bokeh: BokehJS not loaded, scheduling load and callback at\", now());\n",
       "    window._bokeh_is_loading = js_urls.length;\n",
       "    for (var i = 0; i < js_urls.length; i++) {\n",
       "      var url = js_urls[i];\n",
       "      var s = document.createElement('script');\n",
       "      s.src = url;\n",
       "      s.async = false;\n",
       "      s.onreadystatechange = s.onload = function() {\n",
       "        window._bokeh_is_loading--;\n",
       "        if (window._bokeh_is_loading === 0) {\n",
       "          console.log(\"Bokeh: all BokehJS libraries loaded\");\n",
       "          run_callbacks()\n",
       "        }\n",
       "      };\n",
       "      s.onerror = function() {\n",
       "        console.warn(\"failed to load library \" + url);\n",
       "      };\n",
       "      console.log(\"Bokeh: injecting script tag for BokehJS library: \", url);\n",
       "      document.getElementsByTagName(\"head\")[0].appendChild(s);\n",
       "    }\n",
       "  };var element = document.getElementById(\"8f2b77ea-64a2-4449-9acf-3324c8f90bb3\");\n",
       "  if (element == null) {\n",
       "    console.log(\"Bokeh: ERROR: autoload.js configured with elementid '8f2b77ea-64a2-4449-9acf-3324c8f90bb3' but no matching script tag was found. \")\n",
       "    return false;\n",
       "  }\n",
       "\n",
       "  var js_urls = [\"https://cdn.pydata.org/bokeh/release/bokeh-0.12.5.min.js\", \"https://cdn.pydata.org/bokeh/release/bokeh-widgets-0.12.5.min.js\"];\n",
       "\n",
       "  var inline_js = [\n",
       "    function(Bokeh) {\n",
       "      Bokeh.set_log_level(\"info\");\n",
       "    },\n",
       "    \n",
       "    function(Bokeh) {\n",
       "      \n",
       "    },\n",
       "    \n",
       "    function(Bokeh) {\n",
       "      \n",
       "      document.getElementById(\"8f2b77ea-64a2-4449-9acf-3324c8f90bb3\").textContent = \"BokehJS is loading...\";\n",
       "    },\n",
       "    function(Bokeh) {\n",
       "      console.log(\"Bokeh: injecting CSS: https://cdn.pydata.org/bokeh/release/bokeh-0.12.5.min.css\");\n",
       "      Bokeh.embed.inject_css(\"https://cdn.pydata.org/bokeh/release/bokeh-0.12.5.min.css\");\n",
       "      console.log(\"Bokeh: injecting CSS: https://cdn.pydata.org/bokeh/release/bokeh-widgets-0.12.5.min.css\");\n",
       "      Bokeh.embed.inject_css(\"https://cdn.pydata.org/bokeh/release/bokeh-widgets-0.12.5.min.css\");\n",
       "    }\n",
       "  ];\n",
       "\n",
       "  function run_inline_js() {\n",
       "    \n",
       "    if ((window.Bokeh !== undefined) || (force === true)) {\n",
       "      for (var i = 0; i < inline_js.length; i++) {\n",
       "        inline_js[i](window.Bokeh);\n",
       "      }if (force === true) {\n",
       "        display_loaded();\n",
       "      }} else if (Date.now() < window._bokeh_timeout) {\n",
       "      setTimeout(run_inline_js, 100);\n",
       "    } else if (!window._bokeh_failed_load) {\n",
       "      console.log(\"Bokeh: BokehJS failed to load within specified timeout.\");\n",
       "      window._bokeh_failed_load = true;\n",
       "    } else if (force !== true) {\n",
       "      var cell = $(document.getElementById(\"8f2b77ea-64a2-4449-9acf-3324c8f90bb3\")).parents('.cell').data().cell;\n",
       "      cell.output_area.append_execute_result(NB_LOAD_WARNING)\n",
       "    }\n",
       "\n",
       "  }\n",
       "\n",
       "  if (window._bokeh_is_loading === 0) {\n",
       "    console.log(\"Bokeh: BokehJS loaded, going straight to plotting\");\n",
       "    run_inline_js();\n",
       "  } else {\n",
       "    load_libs(js_urls, function() {\n",
       "      console.log(\"Bokeh: BokehJS plotting callback run at\", now());\n",
       "      run_inline_js();\n",
       "    });\n",
       "  }\n",
       "}(this));"
      ]
     },
     "metadata": {},
     "output_type": "display_data"
    }
   ],
   "source": [
    "from bokeh.io import push_notebook, show, output_notebook\n",
    "from bokeh.layouts import row\n",
    "from bokeh.plotting import figure\n",
    "output_notebook()"
   ]
  },
  {
   "cell_type": "code",
   "execution_count": 37,
   "metadata": {},
   "outputs": [
    {
     "data": {
      "text/html": [
       "\n",
       "\n",
       "    <div class=\"bk-root\">\n",
       "        <div class=\"bk-plotdiv\" id=\"ced8125b-131e-408d-a382-640c5c822fa0\"></div>\n",
       "    </div>\n",
       "<script type=\"text/javascript\">\n",
       "  \n",
       "  (function(global) {\n",
       "    function now() {\n",
       "      return new Date();\n",
       "    }\n",
       "  \n",
       "    var force = false;\n",
       "  \n",
       "    if (typeof (window._bokeh_onload_callbacks) === \"undefined\" || force === true) {\n",
       "      window._bokeh_onload_callbacks = [];\n",
       "      window._bokeh_is_loading = undefined;\n",
       "    }\n",
       "  \n",
       "  \n",
       "    \n",
       "    if (typeof (window._bokeh_timeout) === \"undefined\" || force === true) {\n",
       "      window._bokeh_timeout = Date.now() + 0;\n",
       "      window._bokeh_failed_load = false;\n",
       "    }\n",
       "  \n",
       "    var NB_LOAD_WARNING = {'data': {'text/html':\n",
       "       \"<div style='background-color: #fdd'>\\n\"+\n",
       "       \"<p>\\n\"+\n",
       "       \"BokehJS does not appear to have successfully loaded. If loading BokehJS from CDN, this \\n\"+\n",
       "       \"may be due to a slow or bad network connection. Possible fixes:\\n\"+\n",
       "       \"</p>\\n\"+\n",
       "       \"<ul>\\n\"+\n",
       "       \"<li>re-rerun `output_notebook()` to attempt to load from CDN again, or</li>\\n\"+\n",
       "       \"<li>use INLINE resources instead, as so:</li>\\n\"+\n",
       "       \"</ul>\\n\"+\n",
       "       \"<code>\\n\"+\n",
       "       \"from bokeh.resources import INLINE\\n\"+\n",
       "       \"output_notebook(resources=INLINE)\\n\"+\n",
       "       \"</code>\\n\"+\n",
       "       \"</div>\"}};\n",
       "  \n",
       "    function display_loaded() {\n",
       "      if (window.Bokeh !== undefined) {\n",
       "        var el = document.getElementById(\"ced8125b-131e-408d-a382-640c5c822fa0\");\n",
       "        el.textContent = \"BokehJS \" + Bokeh.version + \" successfully loaded.\";\n",
       "      } else if (Date.now() < window._bokeh_timeout) {\n",
       "        setTimeout(display_loaded, 100)\n",
       "      }\n",
       "    }if ((window.Jupyter !== undefined) && Jupyter.notebook.kernel) {\n",
       "      comm_manager = Jupyter.notebook.kernel.comm_manager\n",
       "      comm_manager.register_target(\"e62dd19b-e3f1-4386-8f43-2cbe3ebc75e2\", function () {});\n",
       "    }\n",
       "  \n",
       "    function run_callbacks() {\n",
       "      window._bokeh_onload_callbacks.forEach(function(callback) { callback() });\n",
       "      delete window._bokeh_onload_callbacks\n",
       "      console.info(\"Bokeh: all callbacks have finished\");\n",
       "    }\n",
       "  \n",
       "    function load_libs(js_urls, callback) {\n",
       "      window._bokeh_onload_callbacks.push(callback);\n",
       "      if (window._bokeh_is_loading > 0) {\n",
       "        console.log(\"Bokeh: BokehJS is being loaded, scheduling callback at\", now());\n",
       "        return null;\n",
       "      }\n",
       "      if (js_urls == null || js_urls.length === 0) {\n",
       "        run_callbacks();\n",
       "        return null;\n",
       "      }\n",
       "      console.log(\"Bokeh: BokehJS not loaded, scheduling load and callback at\", now());\n",
       "      window._bokeh_is_loading = js_urls.length;\n",
       "      for (var i = 0; i < js_urls.length; i++) {\n",
       "        var url = js_urls[i];\n",
       "        var s = document.createElement('script');\n",
       "        s.src = url;\n",
       "        s.async = false;\n",
       "        s.onreadystatechange = s.onload = function() {\n",
       "          window._bokeh_is_loading--;\n",
       "          if (window._bokeh_is_loading === 0) {\n",
       "            console.log(\"Bokeh: all BokehJS libraries loaded\");\n",
       "            run_callbacks()\n",
       "          }\n",
       "        };\n",
       "        s.onerror = function() {\n",
       "          console.warn(\"failed to load library \" + url);\n",
       "        };\n",
       "        console.log(\"Bokeh: injecting script tag for BokehJS library: \", url);\n",
       "        document.getElementsByTagName(\"head\")[0].appendChild(s);\n",
       "      }\n",
       "    };var element = document.getElementById(\"ced8125b-131e-408d-a382-640c5c822fa0\");\n",
       "    if (element == null) {\n",
       "      console.log(\"Bokeh: ERROR: autoload.js configured with elementid 'ced8125b-131e-408d-a382-640c5c822fa0' but no matching script tag was found. \")\n",
       "      return false;\n",
       "    }\n",
       "  \n",
       "    var js_urls = [];\n",
       "  \n",
       "    var inline_js = [\n",
       "      function(Bokeh) {\n",
       "        (function() {\n",
       "          var fn = function() {\n",
       "            var docs_json = {\"fa7f1b6e-b441-4a1b-b7cd-e3e9307c3e96\":{\"roots\":{\"references\":[{\"attributes\":{\"plot\":{\"id\":\"01b65273-840f-45b0-986e-d07595ebc3b9\",\"subtype\":\"Figure\",\"type\":\"Plot\"}},\"id\":\"7b0a04a4-61e1-4ffc-8226-a9980f3cc585\",\"type\":\"SaveTool\"},{\"attributes\":{\"plot\":{\"id\":\"01b65273-840f-45b0-986e-d07595ebc3b9\",\"subtype\":\"Figure\",\"type\":\"Plot\"}},\"id\":\"abb0fd33-d6a4-469d-a3d1-f18462ec5f19\",\"type\":\"HelpTool\"},{\"attributes\":{\"plot\":null,\"text\":\"\"},\"id\":\"2fdd09af-19e2-4970-a01c-710e9a958e79\",\"type\":\"Title\"},{\"attributes\":{\"fill_color\":{\"value\":\"#1f77b4\"},\"line_color\":{\"value\":\"#1f77b4\"},\"size\":{\"units\":\"screen\",\"value\":20},\"x\":{\"field\":\"x\"},\"y\":{\"field\":\"y\"}},\"id\":\"8f4b3d2a-e697-4f4e-bde2-3951ad10f75d\",\"type\":\"Circle\"},{\"attributes\":{\"callback\":null},\"id\":\"bc104c56-45b5-48b3-a0d5-a2d5b266fe48\",\"type\":\"DataRange1d\"},{\"attributes\":{\"callback\":null,\"column_names\":[\"y\",\"x\"],\"data\":{\"x\":[1,2,3],\"y\":[4,5,6]}},\"id\":\"b0e33e8c-8137-4a44-87a1-bbf1c822a4a6\",\"type\":\"ColumnDataSource\"},{\"attributes\":{},\"id\":\"b7347428-3eef-4811-b057-6d923a452d70\",\"type\":\"BasicTickFormatter\"},{\"attributes\":{\"plot\":{\"id\":\"01b65273-840f-45b0-986e-d07595ebc3b9\",\"subtype\":\"Figure\",\"type\":\"Plot\"}},\"id\":\"70bd865e-ed38-4985-aad1-cff2d101651c\",\"type\":\"ResetTool\"},{\"attributes\":{\"active_drag\":\"auto\",\"active_scroll\":\"auto\",\"active_tap\":\"auto\",\"tools\":[{\"id\":\"5804f51e-77d4-4cfd-9afe-714f085376f5\",\"type\":\"PanTool\"},{\"id\":\"9181ec78-e1df-478b-a0ca-53e43fdd38ed\",\"type\":\"WheelZoomTool\"},{\"id\":\"9d5fa88d-2a9b-4826-880d-08e0a43a1547\",\"type\":\"BoxZoomTool\"},{\"id\":\"b6294d9b-4d57-4478-8790-43d439330f56\",\"type\":\"SaveTool\"},{\"id\":\"b3cb06a3-572a-4e58-83a0-e83eba1b1927\",\"type\":\"ResetTool\"},{\"id\":\"db038864-730b-4318-8566-b329033f0144\",\"type\":\"HelpTool\"}]},\"id\":\"72c72de9-a065-4bdb-9ce5-abfdaf5971ce\",\"type\":\"Toolbar\"},{\"attributes\":{\"plot\":{\"id\":\"0dc192c0-e2ca-45ae-9375-2a75094088a1\",\"subtype\":\"Figure\",\"type\":\"Plot\"}},\"id\":\"db038864-730b-4318-8566-b329033f0144\",\"type\":\"HelpTool\"},{\"attributes\":{\"plot\":{\"id\":\"0dc192c0-e2ca-45ae-9375-2a75094088a1\",\"subtype\":\"Figure\",\"type\":\"Plot\"}},\"id\":\"b3cb06a3-572a-4e58-83a0-e83eba1b1927\",\"type\":\"ResetTool\"},{\"attributes\":{\"plot\":{\"id\":\"01b65273-840f-45b0-986e-d07595ebc3b9\",\"subtype\":\"Figure\",\"type\":\"Plot\"}},\"id\":\"1a894530-6ce5-4cae-956d-56f6713e6405\",\"type\":\"PanTool\"},{\"attributes\":{},\"id\":\"2f4d549c-845e-4174-8774-0ed8c5370063\",\"type\":\"BasicTicker\"},{\"attributes\":{\"overlay\":{\"id\":\"3797b863-8b65-41bd-84ed-efb9c6686349\",\"type\":\"BoxAnnotation\"},\"plot\":{\"id\":\"01b65273-840f-45b0-986e-d07595ebc3b9\",\"subtype\":\"Figure\",\"type\":\"Plot\"}},\"id\":\"50ce2150-6022-4fdf-8978-976ddca178b8\",\"type\":\"BoxZoomTool\"},{\"attributes\":{\"below\":[{\"id\":\"85715ac3-4e6f-4a34-816d-4d1594c0fde9\",\"type\":\"LinearAxis\"}],\"left\":[{\"id\":\"ab8ae62f-9e2c-4fad-b866-12fbfa7690ad\",\"type\":\"LinearAxis\"}],\"min_border\":0,\"plot_height\":250,\"plot_width\":250,\"renderers\":[{\"id\":\"85715ac3-4e6f-4a34-816d-4d1594c0fde9\",\"type\":\"LinearAxis\"},{\"id\":\"cab44300-cbe4-4ca6-9a08-421532f247a2\",\"type\":\"Grid\"},{\"id\":\"ab8ae62f-9e2c-4fad-b866-12fbfa7690ad\",\"type\":\"LinearAxis\"},{\"id\":\"ca04fab5-ca9d-42ba-8346-faaa2f266688\",\"type\":\"Grid\"},{\"id\":\"3797b863-8b65-41bd-84ed-efb9c6686349\",\"type\":\"BoxAnnotation\"},{\"id\":\"687d386a-2d63-42b4-bf12-726ea6ad8bd8\",\"type\":\"GlyphRenderer\"}],\"title\":{\"id\":\"775c0847-b4af-4693-aa38-3d8633da644e\",\"type\":\"Title\"},\"tool_events\":{\"id\":\"cd6eda40-8fc6-483f-abaa-475c24dc8ecb\",\"type\":\"ToolEvents\"},\"toolbar\":{\"id\":\"2e54fa0b-c200-4363-bf21-3bfa01aea19f\",\"type\":\"Toolbar\"},\"x_range\":{\"id\":\"d70f61a3-6e97-4497-973a-8ae64a713141\",\"type\":\"DataRange1d\"},\"y_range\":{\"id\":\"88bbdb80-3312-4dd7-8daa-e7dbb4a0efa1\",\"type\":\"DataRange1d\"}},\"id\":\"01b65273-840f-45b0-986e-d07595ebc3b9\",\"subtype\":\"Figure\",\"type\":\"Plot\"},{\"attributes\":{\"below\":[{\"id\":\"b0d0a839-1af1-4afd-803b-a6f9210f9837\",\"type\":\"LinearAxis\"}],\"left\":[{\"id\":\"6519b683-aa59-4503-87e4-2db476f76b3c\",\"type\":\"LinearAxis\"}],\"min_border\":0,\"plot_height\":250,\"plot_width\":250,\"renderers\":[{\"id\":\"b0d0a839-1af1-4afd-803b-a6f9210f9837\",\"type\":\"LinearAxis\"},{\"id\":\"988f8524-3dbd-4954-8948-73d40936bf57\",\"type\":\"Grid\"},{\"id\":\"6519b683-aa59-4503-87e4-2db476f76b3c\",\"type\":\"LinearAxis\"},{\"id\":\"4123da5a-18ce-406d-a2bf-14034e886482\",\"type\":\"Grid\"},{\"id\":\"3added0a-547d-4df4-80dc-956e0c93b99c\",\"type\":\"BoxAnnotation\"},{\"id\":\"8fe082f9-074a-4837-95c1-cf495fb1a9a5\",\"type\":\"GlyphRenderer\"}],\"title\":{\"id\":\"2fdd09af-19e2-4970-a01c-710e9a958e79\",\"type\":\"Title\"},\"tool_events\":{\"id\":\"c6b5b98f-c336-4e7d-a845-22fcaa77ab42\",\"type\":\"ToolEvents\"},\"toolbar\":{\"id\":\"72c72de9-a065-4bdb-9ce5-abfdaf5971ce\",\"type\":\"Toolbar\"},\"x_range\":{\"id\":\"bc104c56-45b5-48b3-a0d5-a2d5b266fe48\",\"type\":\"DataRange1d\"},\"y_range\":{\"id\":\"4d0f52a8-b847-4588-8fc9-8907c82a0ae7\",\"type\":\"DataRange1d\"}},\"id\":\"0dc192c0-e2ca-45ae-9375-2a75094088a1\",\"subtype\":\"Figure\",\"type\":\"Plot\"},{\"attributes\":{\"bottom_units\":\"screen\",\"fill_alpha\":{\"value\":0.5},\"fill_color\":{\"value\":\"lightgrey\"},\"left_units\":\"screen\",\"level\":\"overlay\",\"line_alpha\":{\"value\":1.0},\"line_color\":{\"value\":\"black\"},\"line_dash\":[4,4],\"line_width\":{\"value\":2},\"plot\":null,\"render_mode\":\"css\",\"right_units\":\"screen\",\"top_units\":\"screen\"},\"id\":\"3added0a-547d-4df4-80dc-956e0c93b99c\",\"type\":\"BoxAnnotation\"},{\"attributes\":{\"formatter\":{\"id\":\"31da485d-c4b3-4892-ad1e-0a6c15d19fe2\",\"type\":\"BasicTickFormatter\"},\"plot\":{\"id\":\"01b65273-840f-45b0-986e-d07595ebc3b9\",\"subtype\":\"Figure\",\"type\":\"Plot\"},\"ticker\":{\"id\":\"2f4d549c-845e-4174-8774-0ed8c5370063\",\"type\":\"BasicTicker\"}},\"id\":\"ab8ae62f-9e2c-4fad-b866-12fbfa7690ad\",\"type\":\"LinearAxis\"},{\"attributes\":{\"bottom_units\":\"screen\",\"fill_alpha\":{\"value\":0.5},\"fill_color\":{\"value\":\"lightgrey\"},\"left_units\":\"screen\",\"level\":\"overlay\",\"line_alpha\":{\"value\":1.0},\"line_color\":{\"value\":\"black\"},\"line_dash\":[4,4],\"line_width\":{\"value\":2},\"plot\":null,\"render_mode\":\"css\",\"right_units\":\"screen\",\"top_units\":\"screen\"},\"id\":\"3797b863-8b65-41bd-84ed-efb9c6686349\",\"type\":\"BoxAnnotation\"},{\"attributes\":{\"plot\":{\"id\":\"0dc192c0-e2ca-45ae-9375-2a75094088a1\",\"subtype\":\"Figure\",\"type\":\"Plot\"}},\"id\":\"b6294d9b-4d57-4478-8790-43d439330f56\",\"type\":\"SaveTool\"},{\"attributes\":{},\"id\":\"c6b5b98f-c336-4e7d-a845-22fcaa77ab42\",\"type\":\"ToolEvents\"},{\"attributes\":{\"formatter\":{\"id\":\"779b1e98-f283-458b-96b6-bc164f8b42de\",\"type\":\"BasicTickFormatter\"},\"plot\":{\"id\":\"0dc192c0-e2ca-45ae-9375-2a75094088a1\",\"subtype\":\"Figure\",\"type\":\"Plot\"},\"ticker\":{\"id\":\"50d82c36-c529-4488-ab1b-3c7597bb062a\",\"type\":\"BasicTicker\"}},\"id\":\"6519b683-aa59-4503-87e4-2db476f76b3c\",\"type\":\"LinearAxis\"},{\"attributes\":{\"overlay\":{\"id\":\"3added0a-547d-4df4-80dc-956e0c93b99c\",\"type\":\"BoxAnnotation\"},\"plot\":{\"id\":\"0dc192c0-e2ca-45ae-9375-2a75094088a1\",\"subtype\":\"Figure\",\"type\":\"Plot\"}},\"id\":\"9d5fa88d-2a9b-4826-880d-08e0a43a1547\",\"type\":\"BoxZoomTool\"},{\"attributes\":{},\"id\":\"5198d84c-2210-4300-a947-b0c668b6e891\",\"type\":\"BasicTicker\"},{\"attributes\":{\"plot\":{\"id\":\"0dc192c0-e2ca-45ae-9375-2a75094088a1\",\"subtype\":\"Figure\",\"type\":\"Plot\"}},\"id\":\"5804f51e-77d4-4cfd-9afe-714f085376f5\",\"type\":\"PanTool\"},{\"attributes\":{\"dimension\":1,\"plot\":{\"id\":\"0dc192c0-e2ca-45ae-9375-2a75094088a1\",\"subtype\":\"Figure\",\"type\":\"Plot\"},\"ticker\":{\"id\":\"50d82c36-c529-4488-ab1b-3c7597bb062a\",\"type\":\"BasicTicker\"}},\"id\":\"4123da5a-18ce-406d-a2bf-14034e886482\",\"type\":\"Grid\"},{\"attributes\":{\"callback\":null},\"id\":\"88bbdb80-3312-4dd7-8daa-e7dbb4a0efa1\",\"type\":\"DataRange1d\"},{\"attributes\":{\"formatter\":{\"id\":\"0556f8ae-8a70-443e-a20d-303d5fddc522\",\"type\":\"BasicTickFormatter\"},\"plot\":{\"id\":\"0dc192c0-e2ca-45ae-9375-2a75094088a1\",\"subtype\":\"Figure\",\"type\":\"Plot\"},\"ticker\":{\"id\":\"5198d84c-2210-4300-a947-b0c668b6e891\",\"type\":\"BasicTicker\"}},\"id\":\"b0d0a839-1af1-4afd-803b-a6f9210f9837\",\"type\":\"LinearAxis\"},{\"attributes\":{},\"id\":\"779b1e98-f283-458b-96b6-bc164f8b42de\",\"type\":\"BasicTickFormatter\"},{\"attributes\":{},\"id\":\"31da485d-c4b3-4892-ad1e-0a6c15d19fe2\",\"type\":\"BasicTickFormatter\"},{\"attributes\":{\"plot\":{\"id\":\"01b65273-840f-45b0-986e-d07595ebc3b9\",\"subtype\":\"Figure\",\"type\":\"Plot\"}},\"id\":\"3673dbad-ec14-46e9-b036-6f8c5d79d995\",\"type\":\"WheelZoomTool\"},{\"attributes\":{\"callback\":null},\"id\":\"d70f61a3-6e97-4497-973a-8ae64a713141\",\"type\":\"DataRange1d\"},{\"attributes\":{\"formatter\":{\"id\":\"b7347428-3eef-4811-b057-6d923a452d70\",\"type\":\"BasicTickFormatter\"},\"plot\":{\"id\":\"01b65273-840f-45b0-986e-d07595ebc3b9\",\"subtype\":\"Figure\",\"type\":\"Plot\"},\"ticker\":{\"id\":\"ff457406-e467-405c-ad80-d783050323fa\",\"type\":\"BasicTicker\"}},\"id\":\"85715ac3-4e6f-4a34-816d-4d1594c0fde9\",\"type\":\"LinearAxis\"},{\"attributes\":{},\"id\":\"cd6eda40-8fc6-483f-abaa-475c24dc8ecb\",\"type\":\"ToolEvents\"},{\"attributes\":{\"children\":[{\"id\":\"0dc192c0-e2ca-45ae-9375-2a75094088a1\",\"subtype\":\"Figure\",\"type\":\"Plot\"},{\"id\":\"01b65273-840f-45b0-986e-d07595ebc3b9\",\"subtype\":\"Figure\",\"type\":\"Plot\"}]},\"id\":\"37379ac4-8a99-4aa1-ae90-d38d5f4cf95c\",\"type\":\"Row\"},{\"attributes\":{\"callback\":null},\"id\":\"4d0f52a8-b847-4588-8fc9-8907c82a0ae7\",\"type\":\"DataRange1d\"},{\"attributes\":{\"fill_color\":{\"value\":\"#1f77b4\"},\"line_color\":{\"value\":\"#1f77b4\"},\"size\":{\"units\":\"screen\",\"value\":20},\"x\":{\"field\":\"x\"},\"y\":{\"field\":\"y\"}},\"id\":\"cf0ed256-f37f-4b00-ab88-2f1c54ee187f\",\"type\":\"Circle\"},{\"attributes\":{\"plot\":{\"id\":\"01b65273-840f-45b0-986e-d07595ebc3b9\",\"subtype\":\"Figure\",\"type\":\"Plot\"},\"ticker\":{\"id\":\"ff457406-e467-405c-ad80-d783050323fa\",\"type\":\"BasicTicker\"}},\"id\":\"cab44300-cbe4-4ca6-9a08-421532f247a2\",\"type\":\"Grid\"},{\"attributes\":{},\"id\":\"50d82c36-c529-4488-ab1b-3c7597bb062a\",\"type\":\"BasicTicker\"},{\"attributes\":{\"fill_alpha\":{\"value\":0.1},\"fill_color\":{\"value\":\"#1f77b4\"},\"line_alpha\":{\"value\":0.1},\"line_color\":{\"value\":\"#1f77b4\"},\"size\":{\"units\":\"screen\",\"value\":20},\"x\":{\"field\":\"x\"},\"y\":{\"field\":\"y\"}},\"id\":\"021bc331-7d18-45e0-ab6d-871cb603499e\",\"type\":\"Circle\"},{\"attributes\":{\"data_source\":{\"id\":\"b0e33e8c-8137-4a44-87a1-bbf1c822a4a6\",\"type\":\"ColumnDataSource\"},\"glyph\":{\"id\":\"8f4b3d2a-e697-4f4e-bde2-3951ad10f75d\",\"type\":\"Circle\"},\"hover_glyph\":null,\"muted_glyph\":null,\"nonselection_glyph\":{\"id\":\"021bc331-7d18-45e0-ab6d-871cb603499e\",\"type\":\"Circle\"},\"selection_glyph\":null},\"id\":\"687d386a-2d63-42b4-bf12-726ea6ad8bd8\",\"type\":\"GlyphRenderer\"},{\"attributes\":{},\"id\":\"ff457406-e467-405c-ad80-d783050323fa\",\"type\":\"BasicTicker\"},{\"attributes\":{\"callback\":null,\"column_names\":[\"y\",\"x\"],\"data\":{\"x\":[1,2,3],\"y\":[4,5,6]}},\"id\":\"8221f11f-1311-4a2a-97ce-fe1f4f5ed777\",\"type\":\"ColumnDataSource\"},{\"attributes\":{\"data_source\":{\"id\":\"8221f11f-1311-4a2a-97ce-fe1f4f5ed777\",\"type\":\"ColumnDataSource\"},\"glyph\":{\"id\":\"cf0ed256-f37f-4b00-ab88-2f1c54ee187f\",\"type\":\"Circle\"},\"hover_glyph\":null,\"muted_glyph\":null,\"nonselection_glyph\":{\"id\":\"32a85e67-7950-49b1-bab7-6acb5b5110f9\",\"type\":\"Circle\"},\"selection_glyph\":null},\"id\":\"8fe082f9-074a-4837-95c1-cf495fb1a9a5\",\"type\":\"GlyphRenderer\"},{\"attributes\":{\"plot\":{\"id\":\"0dc192c0-e2ca-45ae-9375-2a75094088a1\",\"subtype\":\"Figure\",\"type\":\"Plot\"}},\"id\":\"9181ec78-e1df-478b-a0ca-53e43fdd38ed\",\"type\":\"WheelZoomTool\"},{\"attributes\":{\"plot\":null,\"text\":\"\"},\"id\":\"775c0847-b4af-4693-aa38-3d8633da644e\",\"type\":\"Title\"},{\"attributes\":{\"fill_alpha\":{\"value\":0.1},\"fill_color\":{\"value\":\"#1f77b4\"},\"line_alpha\":{\"value\":0.1},\"line_color\":{\"value\":\"#1f77b4\"},\"size\":{\"units\":\"screen\",\"value\":20},\"x\":{\"field\":\"x\"},\"y\":{\"field\":\"y\"}},\"id\":\"32a85e67-7950-49b1-bab7-6acb5b5110f9\",\"type\":\"Circle\"},{\"attributes\":{},\"id\":\"0556f8ae-8a70-443e-a20d-303d5fddc522\",\"type\":\"BasicTickFormatter\"},{\"attributes\":{\"dimension\":1,\"plot\":{\"id\":\"01b65273-840f-45b0-986e-d07595ebc3b9\",\"subtype\":\"Figure\",\"type\":\"Plot\"},\"ticker\":{\"id\":\"2f4d549c-845e-4174-8774-0ed8c5370063\",\"type\":\"BasicTicker\"}},\"id\":\"ca04fab5-ca9d-42ba-8346-faaa2f266688\",\"type\":\"Grid\"},{\"attributes\":{\"plot\":{\"id\":\"0dc192c0-e2ca-45ae-9375-2a75094088a1\",\"subtype\":\"Figure\",\"type\":\"Plot\"},\"ticker\":{\"id\":\"5198d84c-2210-4300-a947-b0c668b6e891\",\"type\":\"BasicTicker\"}},\"id\":\"988f8524-3dbd-4954-8948-73d40936bf57\",\"type\":\"Grid\"},{\"attributes\":{\"active_drag\":\"auto\",\"active_scroll\":\"auto\",\"active_tap\":\"auto\",\"tools\":[{\"id\":\"1a894530-6ce5-4cae-956d-56f6713e6405\",\"type\":\"PanTool\"},{\"id\":\"3673dbad-ec14-46e9-b036-6f8c5d79d995\",\"type\":\"WheelZoomTool\"},{\"id\":\"50ce2150-6022-4fdf-8978-976ddca178b8\",\"type\":\"BoxZoomTool\"},{\"id\":\"7b0a04a4-61e1-4ffc-8226-a9980f3cc585\",\"type\":\"SaveTool\"},{\"id\":\"70bd865e-ed38-4985-aad1-cff2d101651c\",\"type\":\"ResetTool\"},{\"id\":\"abb0fd33-d6a4-469d-a3d1-f18462ec5f19\",\"type\":\"HelpTool\"}]},\"id\":\"2e54fa0b-c200-4363-bf21-3bfa01aea19f\",\"type\":\"Toolbar\"}],\"root_ids\":[\"37379ac4-8a99-4aa1-ae90-d38d5f4cf95c\"]},\"title\":\"Bokeh Application\",\"version\":\"0.12.5\"}};\n",
       "            var render_items = [{\"docid\":\"fa7f1b6e-b441-4a1b-b7cd-e3e9307c3e96\",\"elementid\":\"ced8125b-131e-408d-a382-640c5c822fa0\",\"modelid\":\"37379ac4-8a99-4aa1-ae90-d38d5f4cf95c\",\"notebook_comms_target\":\"e62dd19b-e3f1-4386-8f43-2cbe3ebc75e2\"}];\n",
       "            \n",
       "            Bokeh.embed.embed_items(docs_json, render_items);\n",
       "          };\n",
       "          if (document.readyState != \"loading\") fn();\n",
       "          else document.addEventListener(\"DOMContentLoaded\", fn);\n",
       "        })();\n",
       "      },\n",
       "      function(Bokeh) {\n",
       "      }\n",
       "    ];\n",
       "  \n",
       "    function run_inline_js() {\n",
       "      \n",
       "      if ((window.Bokeh !== undefined) || (force === true)) {\n",
       "        for (var i = 0; i < inline_js.length; i++) {\n",
       "          inline_js[i](window.Bokeh);\n",
       "        }if (force === true) {\n",
       "          display_loaded();\n",
       "        }} else if (Date.now() < window._bokeh_timeout) {\n",
       "        setTimeout(run_inline_js, 100);\n",
       "      } else if (!window._bokeh_failed_load) {\n",
       "        console.log(\"Bokeh: BokehJS failed to load within specified timeout.\");\n",
       "        window._bokeh_failed_load = true;\n",
       "      } else if (force !== true) {\n",
       "        var cell = $(document.getElementById(\"ced8125b-131e-408d-a382-640c5c822fa0\")).parents('.cell').data().cell;\n",
       "        cell.output_area.append_execute_result(NB_LOAD_WARNING)\n",
       "      }\n",
       "  \n",
       "    }\n",
       "  \n",
       "    if (window._bokeh_is_loading === 0) {\n",
       "      console.log(\"Bokeh: BokehJS loaded, going straight to plotting\");\n",
       "      run_inline_js();\n",
       "    } else {\n",
       "      load_libs(js_urls, function() {\n",
       "        console.log(\"Bokeh: BokehJS plotting callback run at\", now());\n",
       "        run_inline_js();\n",
       "      });\n",
       "    }\n",
       "  }(this));\n",
       "</script>"
      ]
     },
     "metadata": {},
     "output_type": "display_data"
    }
   ],
   "source": [
    "opts = dict(plot_width=250, plot_height=250, min_border=0)\n",
    "p1 = figure(**opts)\n",
    "r1 = p1.circle([1,2,3], [4,5,6], size=20)\n",
    "\n",
    "p2 = figure(**opts)\n",
    "r2 = p2.circle([1,2,3], [4,5,6], size=20)\n",
    "\n",
    "# get a handle to update the shown cell with\n",
    "t = show(row(p1, p2), notebook_handle=True)"
   ]
  },
  {
   "cell_type": "code",
   "execution_count": null,
   "metadata": {
    "collapsed": true
   },
   "outputs": [],
   "source": []
  }
 ],
 "metadata": {
  "celltoolbar": "Raw Cell Format",
  "kernelspec": {
   "display_name": "Python 3",
   "language": "python",
   "name": "python3"
  },
  "language_info": {
   "codemirror_mode": {
    "name": "ipython",
    "version": 3
   },
   "file_extension": ".py",
   "mimetype": "text/x-python",
   "name": "python",
   "nbconvert_exporter": "python",
   "pygments_lexer": "ipython3",
   "version": "3.5.2"
  }
 },
 "nbformat": 4,
 "nbformat_minor": 2
}
